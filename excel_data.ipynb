{
 "cells": [
  {
   "cell_type": "code",
   "execution_count": 1,
   "metadata": {},
   "outputs": [],
   "source": [
    "import pandas as pd"
   ]
  },
  {
   "cell_type": "code",
   "execution_count": 3,
   "metadata": {},
   "outputs": [],
   "source": [
    "xls = pd.ExcelFile('../../Data/VisaClimateTechData.xlsx')\n",
    "df1 = pd.read_excel(xls, '2_Card data')\n",
    "df2 = pd.read_excel(xls, '3_Open banking data')"
   ]
  },
  {
   "cell_type": "code",
   "execution_count": 4,
   "metadata": {},
   "outputs": [
    {
     "data": {
      "text/plain": [
       "Index(['cpd_mnth_id', 'cpd_dt', 'cluster_name_adjusted', 'mrch_catg_cd',\n",
       "       'mrch_catg_rlup_nm', 'merchant', 'cp_flag', 'domestic_flag',\n",
       "       'intraregion_flag', 'interregion_flag', 'city_name', 'country_code',\n",
       "       'spend'],\n",
       "      dtype='object')"
      ]
     },
     "execution_count": 4,
     "metadata": {},
     "output_type": "execute_result"
    }
   ],
   "source": [
    "df1.columns"
   ]
  },
  {
   "cell_type": "code",
   "execution_count": 5,
   "metadata": {},
   "outputs": [
    {
     "data": {
      "text/plain": [
       "Index(['Name', 'Value.accountId', 'cluster_name_adjusted',\n",
       "       'Value.amount.currencyCode', 'mrch_catg_rlup_nm2', 'Value.dates.booked',\n",
       "       'amount', 'Category'],\n",
       "      dtype='object')"
      ]
     },
     "execution_count": 5,
     "metadata": {},
     "output_type": "execute_result"
    }
   ],
   "source": [
    "df2.columns"
   ]
  },
  {
   "cell_type": "code",
   "execution_count": 6,
   "metadata": {},
   "outputs": [
    {
     "data": {
      "text/html": [
       "<div>\n",
       "<style scoped>\n",
       "    .dataframe tbody tr th:only-of-type {\n",
       "        vertical-align: middle;\n",
       "    }\n",
       "\n",
       "    .dataframe tbody tr th {\n",
       "        vertical-align: top;\n",
       "    }\n",
       "\n",
       "    .dataframe thead th {\n",
       "        text-align: right;\n",
       "    }\n",
       "</style>\n",
       "<table border=\"1\" class=\"dataframe\">\n",
       "  <thead>\n",
       "    <tr style=\"text-align: right;\">\n",
       "      <th></th>\n",
       "      <th>Name</th>\n",
       "      <th>Value.accountId</th>\n",
       "      <th>cluster_name_adjusted</th>\n",
       "      <th>Value.amount.currencyCode</th>\n",
       "      <th>mrch_catg_rlup_nm2</th>\n",
       "      <th>Value.dates.booked</th>\n",
       "      <th>amount</th>\n",
       "      <th>Category</th>\n",
       "    </tr>\n",
       "  </thead>\n",
       "  <tbody>\n",
       "    <tr>\n",
       "      <th>0</th>\n",
       "      <td>transactions</td>\n",
       "      <td>5a73582adf954cf6b3db6cc97bedccd9</td>\n",
       "      <td>Affluent Segment</td>\n",
       "      <td>GBP</td>\n",
       "      <td>AMUSEMENT PARKS/CIRCUS</td>\n",
       "      <td>2023-05-12</td>\n",
       "      <td>3.73</td>\n",
       "      <td>entertainment</td>\n",
       "    </tr>\n",
       "    <tr>\n",
       "      <th>1</th>\n",
       "      <td>transactions</td>\n",
       "      <td>5a73582adf954cf6b3db6cc97bedccd9</td>\n",
       "      <td>Affluent Segment</td>\n",
       "      <td>GBP</td>\n",
       "      <td>AMUSEMENT PARKS/CIRCUS</td>\n",
       "      <td>2023-05-12</td>\n",
       "      <td>3.73</td>\n",
       "      <td>entertainment</td>\n",
       "    </tr>\n",
       "    <tr>\n",
       "      <th>2</th>\n",
       "      <td>transactions</td>\n",
       "      <td>5a73582adf954cf6b3db6cc97bedccd9</td>\n",
       "      <td>Affluent Segment</td>\n",
       "      <td>GBP</td>\n",
       "      <td>AMUSEMENT PARKS/CIRCUS</td>\n",
       "      <td>2023-06-02</td>\n",
       "      <td>4.39</td>\n",
       "      <td>entertainment</td>\n",
       "    </tr>\n",
       "    <tr>\n",
       "      <th>3</th>\n",
       "      <td>transactions</td>\n",
       "      <td>5a73582adf954cf6b3db6cc97bedccd9</td>\n",
       "      <td>Affluent Segment</td>\n",
       "      <td>GBP</td>\n",
       "      <td>AMUSEMENT PARKS/CIRCUS</td>\n",
       "      <td>2023-06-02</td>\n",
       "      <td>7.40</td>\n",
       "      <td>entertainment</td>\n",
       "    </tr>\n",
       "    <tr>\n",
       "      <th>4</th>\n",
       "      <td>transactions</td>\n",
       "      <td>6r88582adf954cf6b3db6cc97bedccd9</td>\n",
       "      <td>Urban Spenders</td>\n",
       "      <td>GBP</td>\n",
       "      <td>ART DEALERS &amp; GALLERIES</td>\n",
       "      <td>2023-07-14</td>\n",
       "      <td>6.57</td>\n",
       "      <td>entertainment</td>\n",
       "    </tr>\n",
       "  </tbody>\n",
       "</table>\n",
       "</div>"
      ],
      "text/plain": [
       "           Name                   Value.accountId cluster_name_adjusted  \\\n",
       "0  transactions  5a73582adf954cf6b3db6cc97bedccd9      Affluent Segment   \n",
       "1  transactions  5a73582adf954cf6b3db6cc97bedccd9      Affluent Segment   \n",
       "2  transactions  5a73582adf954cf6b3db6cc97bedccd9      Affluent Segment   \n",
       "3  transactions  5a73582adf954cf6b3db6cc97bedccd9      Affluent Segment   \n",
       "4  transactions  6r88582adf954cf6b3db6cc97bedccd9        Urban Spenders   \n",
       "\n",
       "  Value.amount.currencyCode       mrch_catg_rlup_nm2 Value.dates.booked  \\\n",
       "0                       GBP   AMUSEMENT PARKS/CIRCUS         2023-05-12   \n",
       "1                       GBP   AMUSEMENT PARKS/CIRCUS         2023-05-12   \n",
       "2                       GBP   AMUSEMENT PARKS/CIRCUS         2023-06-02   \n",
       "3                       GBP   AMUSEMENT PARKS/CIRCUS         2023-06-02   \n",
       "4                       GBP  ART DEALERS & GALLERIES         2023-07-14   \n",
       "\n",
       "   amount       Category  \n",
       "0    3.73  entertainment  \n",
       "1    3.73  entertainment  \n",
       "2    4.39  entertainment  \n",
       "3    7.40  entertainment  \n",
       "4    6.57  entertainment  "
      ]
     },
     "execution_count": 6,
     "metadata": {},
     "output_type": "execute_result"
    }
   ],
   "source": [
    "df2.head()"
   ]
  },
  {
   "cell_type": "code",
   "execution_count": null,
   "metadata": {},
   "outputs": [],
   "source": []
  }
 ],
 "metadata": {
  "kernelspec": {
   "display_name": "ecog",
   "language": "python",
   "name": "python3"
  },
  "language_info": {
   "codemirror_mode": {
    "name": "ipython",
    "version": 3
   },
   "file_extension": ".py",
   "mimetype": "text/x-python",
   "name": "python",
   "nbconvert_exporter": "python",
   "pygments_lexer": "ipython3",
   "version": "3.11.9"
  }
 },
 "nbformat": 4,
 "nbformat_minor": 2
}
